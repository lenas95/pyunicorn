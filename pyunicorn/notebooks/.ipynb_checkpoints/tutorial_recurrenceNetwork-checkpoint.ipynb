{
 "cells": [
  {
   "cell_type": "markdown",
   "id": "d35172b4",
   "metadata": {},
   "source": [
    "# Turorial for creating and manipulating a recurrence network with pyunicorn\n"
   ]
  },
  {
   "cell_type": "markdown",
   "id": "bcbb7d28",
   "metadata": {},
   "source": [
    "## Analysis of complex networks\n",
    "\n",
    "So far, analysis of complex networks in different scientific fields, has been performed by the study of the adjacency matrix. \n",
    "\n",
    "*pyunicorn* suggests a new approach by studying complex networks through a time-series based approach: **Recurrent plot (RP)**\n",
    "\n",
    "Aim: bridging complex network theory and recurrence analysis\n",
    "From NWarman: In this letter, we demonstrate that the recurrence matrix (analogously to\n",
    "[31]) can be considered as the adjacency matrix of an undirected, unweighted network, allowing us to study time series using a complex network approach\n",
    "Complex network statistics is helpful to characterise the local and global properties of a network. We\n",
    "\n",
    "What is a recurrence network?\n",
    "\n",
    "\n",
    "\n",
    "\n",
    "A state at time i (red dot) is recurrent at another time j (black dot) when the phase space trajectory visits its close neighborhood (gray circle). his is marked by value 1 in the recurrence matrix at (i, j). States outside of this neighborhood (small red circle) are marked with 0 in the recurrence matrix. For Literature review see : https://www.researchgate.net/figure/Basic-concepts-beyond-recurrence-plots-and-the-resulting-recurrence-networks-exemplified_fig1_47557940 ."
   ]
  },
  {
   "cell_type": "code",
   "execution_count": 2,
   "id": "b8e8e60f",
   "metadata": {},
   "outputs": [
    {
     "ename": "ModuleNotFoundError",
     "evalue": "No module named 'setup'",
     "output_type": "error",
     "traceback": [
      "\u001b[0;31m---------------------------------------------------------------------------\u001b[0m",
      "\u001b[0;31mModuleNotFoundError\u001b[0m                       Traceback (most recent call last)",
      "\u001b[0;32m/tmp/ipykernel_15936/3421462486.py\u001b[0m in \u001b[0;36m<module>\u001b[0;34m\u001b[0m\n\u001b[1;32m      1\u001b[0m \u001b[0;32mimport\u001b[0m \u001b[0mnumpy\u001b[0m \u001b[0;32mas\u001b[0m \u001b[0mnp\u001b[0m\u001b[0;34m\u001b[0m\u001b[0;34m\u001b[0m\u001b[0m\n\u001b[1;32m      2\u001b[0m \u001b[0;34m\u001b[0m\u001b[0m\n\u001b[0;32m----> 3\u001b[0;31m \u001b[0;32mfrom\u001b[0m \u001b[0mpyunicorn\u001b[0m\u001b[0;34m.\u001b[0m\u001b[0mcore\u001b[0m \u001b[0;32mimport\u001b[0m \u001b[0mNetwork\u001b[0m\u001b[0;34m\u001b[0m\u001b[0;34m\u001b[0m\u001b[0m\n\u001b[0m\u001b[1;32m      4\u001b[0m \u001b[0;32mfrom\u001b[0m \u001b[0mpyunicorn\u001b[0m\u001b[0;34m.\u001b[0m\u001b[0mrecurrence_plot\u001b[0m \u001b[0;32mimport\u001b[0m \u001b[0mRecurrencePlot\u001b[0m\u001b[0;34m\u001b[0m\u001b[0;34m\u001b[0m\u001b[0m\n",
      "\u001b[0;32m~/.local/lib/python3.8/site-packages/pyunicorn/__init__.py\u001b[0m in \u001b[0;36m<module>\u001b[0;34m\u001b[0m\n\u001b[1;32m     41\u001b[0m \u001b[0;32mimport\u001b[0m \u001b[0msys\u001b[0m\u001b[0;34m\u001b[0m\u001b[0;34m\u001b[0m\u001b[0m\n\u001b[1;32m     42\u001b[0m \u001b[0;34m\u001b[0m\u001b[0m\n\u001b[0;32m---> 43\u001b[0;31m \u001b[0;32mfrom\u001b[0m \u001b[0msetup\u001b[0m \u001b[0;32mimport\u001b[0m \u001b[0m__version__\u001b[0m\u001b[0;34m\u001b[0m\u001b[0;34m\u001b[0m\u001b[0m\n\u001b[0m\u001b[1;32m     44\u001b[0m \u001b[0;34m\u001b[0m\u001b[0m\n\u001b[1;32m     45\u001b[0m \u001b[0;32mfrom\u001b[0m \u001b[0;34m.\u001b[0m\u001b[0mutils\u001b[0m \u001b[0;32mimport\u001b[0m \u001b[0mmpi\u001b[0m\u001b[0;34m\u001b[0m\u001b[0;34m\u001b[0m\u001b[0m\n",
      "\u001b[0;31mModuleNotFoundError\u001b[0m: No module named 'setup'"
     ]
    }
   ],
   "source": [
    "import numpy as np\n",
    "\n",
    "from pyunicorn.core import Network\n",
    "from pyunicorn.recurrence_plot import RecurrencePlot"
   ]
  }
 ],
 "metadata": {
  "kernelspec": {
   "display_name": "Python 3 (ipykernel)",
   "language": "python",
   "name": "python3"
  },
  "language_info": {
   "codemirror_mode": {
    "name": "ipython",
    "version": 3
   },
   "file_extension": ".py",
   "mimetype": "text/x-python",
   "name": "python",
   "nbconvert_exporter": "python",
   "pygments_lexer": "ipython3",
   "version": "3.8.10"
  }
 },
 "nbformat": 4,
 "nbformat_minor": 5
}
